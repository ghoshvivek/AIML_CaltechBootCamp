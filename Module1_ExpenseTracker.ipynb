{
 "cells": [
  {
   "cell_type": "code",
   "execution_count": 83,
   "id": "0be66761-e616-40bb-8901-08656a71b92f",
   "metadata": {},
   "outputs": [
    {
     "name": "stdin",
     "output_type": "stream",
     "text": [
      "Enter values separated by commas: (or type 'done' to finish) done\n"
     ]
    },
    {
     "name": "stdout",
     "output_type": "stream",
     "text": [
      "-----------------------------------\n",
      "BUDGET  DATE  EXPENSE  CATEGORY\n",
      "-----------------------------------\n",
      "2000 1-1-1 98 ent\n",
      "2000 1-1-1 42 ert\n",
      "3-4-1934 353 wwd\n"
     ]
    }
   ],
   "source": [
    "# This program is created as part of Project completion requirement for\n",
    "# AI/ML Bootcamp hosted by SimpliLearn and faculty at CalTech ( California\n",
    "# Institute of Technology).\n",
    "# This program is created as End-Project requirement for Programming\n",
    "# refresher module of AI/ML Bootcamp.\n",
    "# Author: Vivek Ghosh\n",
    "# Trainer/Evaluator: Amitendra Srivastava\n",
    "# Course co-ordinator: Vishnu\n",
    "# License: MIT License\n",
    "# Creation: Nov-2024\n",
    "# Problem Description: Design and implement a personal expense tracker \n",
    "# that enables users to manage their expenses against a monthly budget.\n",
    "# Platform: Jupyter Notebook, Python3 Kernel\n",
    "# IDE: Anaconda\n",
    "# Tools: Anaconda Assistant v4.0.15\n",
    "# Source Code Language: Python3\n",
    "# Output format: .ipynb (Interactive Python file for Jupyter Notebook)\n",
    "# Email: vivek.ghosh@gmail.com\n",
    "# Comments: A direct mapping is provided wherever possible for source\n",
    "# code to corresponding program objectives. For simplification and for ease\n",
    "# of eveluation, the Objectives have been redefined again in this file.\n",
    "# Care has been taken to not miss any objective defined in the original\n",
    "# problem statement.\n",
    "# Objectives: \n",
    "#    Develop a program which:\n",
    "#    1. User can log daily expense\n",
    "#    2. User can categorize expenses\n",
    "#    3. User can set monthly budget\n",
    "#    4. User data persists when program exits\n",
    "#    5. User interface is interactive and menu-driven\n",
    "\n",
    "import os  # Import os module to check for file existence\n",
    "import csv\n",
    "\n",
    "def get_monthly_budget():\n",
    "    return 2000;\n",
    "\n",
    "filename = 'expenseTracker.csv'\n",
    "\n",
    "def show_data():\n",
    "    print('-' * 35)\n",
    "    print('BUDGET ','DATE ', 'EXPENSE ', 'CATEGORY')\n",
    "    print('-' * 35)\n",
    "    if os.path.exists(filename):\n",
    "        with open(filename, mode='r') as file:\n",
    "            reader = csv.reader(file)\n",
    "            # Iterate through the rows in the CSV\n",
    "            for row in reader:\n",
    "                print ( get_monthly_budget(), end = \" \")\n",
    "                # Print 3 values per line\n",
    "                for i in range(0, len(row), 3):\n",
    "                    print(' '.join(row[i:i+3]))\n",
    "# Initialize an empty list to store inputs\n",
    "inputs = []\n",
    "\n",
    "# Loop to get multiple inputs\n",
    "while True:\n",
    "    # Get all inputs in a single line\n",
    "    user_input = input(\"Enter values separated by commas: (or type 'done' to finish)\")\n",
    "    # Split the input string into a list\n",
    "    record = user_input.split(',')\n",
    "    if user_input.lower() == 'done':  # Check if the user wants to stop\n",
    "        break\n",
    "    inputs.extend(record)  # Add the input to the list\n",
    "\n",
    "# Open the file in write mode\n",
    "with open(filename, mode='at', newline='') as file:\n",
    "    if inputs:\n",
    "        writer = csv.writer(file)\n",
    "        # Write the list to the  CSV file\n",
    "        writer.writerow(inputs)  # Use writerow for a single row\n",
    "\n",
    "# Strip whitespace from each input\n",
    "inputs = [value.strip() for value in inputs]\n",
    "show_data()"
   ]
  },
  {
   "cell_type": "code",
   "execution_count": null,
   "id": "7bed55a5-a6ad-4235-a33d-9adc97c0b2dc",
   "metadata": {},
   "outputs": [],
   "source": []
  },
  {
   "cell_type": "code",
   "execution_count": null,
   "id": "6ca759d3-d97a-4ec0-b106-4a8af3044692",
   "metadata": {},
   "outputs": [],
   "source": []
  }
 ],
 "metadata": {
  "kernelspec": {
   "display_name": "Python 3 (ipykernel)",
   "language": "python",
   "name": "python3"
  },
  "language_info": {
   "codemirror_mode": {
    "name": "ipython",
    "version": 3
   },
   "file_extension": ".py",
   "mimetype": "text/x-python",
   "name": "python",
   "nbconvert_exporter": "python",
   "pygments_lexer": "ipython3",
   "version": "3.12.4"
  }
 },
 "nbformat": 4,
 "nbformat_minor": 5
}
